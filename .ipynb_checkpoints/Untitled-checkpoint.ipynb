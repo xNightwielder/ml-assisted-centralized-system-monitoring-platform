{
 "cells": [
  {
   "cell_type": "code",
   "execution_count": 1,
   "id": "2a6a9452-4ebf-4dd9-b171-8d915c559d89",
   "metadata": {},
   "outputs": [
    {
     "name": "stdout",
     "output_type": "stream",
     "text": [
      "   Unnamed: 0  cpu_user  cpu_system   cpu_idle  cpu_io    mem_total  \\\n",
      "0           0  1.560062    0.780031  97.503900       0  17097318400   \n",
      "1           1  5.460218    1.872075  92.511700       0  17097318400   \n",
      "2           2  2.024922    1.090343  96.573209       0  17097318400   \n",
      "3           3  2.024922    1.090343  96.573209       0  17097318400   \n",
      "4           4  1.406250    0.937500  97.656250       0  17097318400   \n",
      "\n",
      "     mem_used  mem_available  mem_used_percent  mem_cached_win  ...  \\\n",
      "0  5901197312    11196121088         34.515338       114208768  ...   \n",
      "1  6285471744    10811846656         36.762910       117608448  ...   \n",
      "2  6259118080    10838200320         36.608771       116920320  ...   \n",
      "3  6259118080    10838200320         36.608771       116920320  ...   \n",
      "4  6259900416    10837417984         36.613346       117014528  ...   \n",
      "\n",
      "   err_out_outbound  drop_in_received  drop_out_outbound     load1     load5  \\\n",
      "0                 0                 0                  0  0.012026  0.463956   \n",
      "1                 0                 0                  0  0.083743  0.465001   \n",
      "2                 0                 0                  0  0.070887  0.449757   \n",
      "3                 0                 0                  0  0.070887  0.449757   \n",
      "4                 0                 0                  0  0.060004  0.435012   \n",
      "\n",
      "     load15  process_thread_win  process_total_win  process_running_win  \\\n",
      "0  4.436662                2649                188                  186   \n",
      "1  4.393148                2694                191                  188   \n",
      "2  4.344606                2695                190                  188   \n",
      "3  4.344606                2695                190                  188   \n",
      "4  4.296599                2692                190                  188   \n",
      "\n",
      "   system_label  \n",
      "0        normal  \n",
      "1        normal  \n",
      "2        normal  \n",
      "3        normal  \n",
      "4        normal  \n",
      "\n",
      "[5 rows x 37 columns]\n",
      "Test Doğruluğu: 0.9938900203665988\n",
      "              precision    recall  f1-score   support\n",
      "\n",
      "           0       0.99      0.99      0.99       137\n",
      "           1       1.00      1.00      1.00       128\n",
      "           2       0.98      0.99      0.98        99\n",
      "           3       1.00      1.00      1.00       127\n",
      "\n",
      "    accuracy                           0.99       491\n",
      "   macro avg       0.99      0.99      0.99       491\n",
      "weighted avg       0.99      0.99      0.99       491\n",
      "\n"
     ]
    },
    {
     "data": {
      "image/png": "[encoded data removed]",
      "text/plain": [
       "<Figure size 640x480 with 2 Axes>"
      ]
     },
     "metadata": {},
     "output_type": "display_data"
    },
    {
     "data": {
      "text/plain": [
       "'\\nmodels = {\\n    \"Random Forest\": RandomForestClassifier(),\\n    \"Decision Tree\": DecisionTreeClassifier(),\\n    \"KNN\": KNeighborsClassifier(),\\n    \"SVM\": SVC(),\\n    \"Logistic Regression\": LogisticRegression(max_iter=1000),\\n    \"XGBoost\": XGBClassifier()\\n}\\n\\nfor name, model in models.items():\\n    model.fit(X_train, y_train)\\n    y_pred = model.predict(X_test)\\n    acc = accuracy_score(y_test, y_pred)\\n    classify_report = classification_report(y_test, y_pred)\\n    test_score = model.score(X_test, y_test)\\n    scores = cross_val_score(model, X_scaled, y, cv=5, scoring=\\'accuracy\\')\\n    cm = confusion_matrix(y_test, y_pred)\\n    labels = model.classes_\\n    cm = confusion_matrix(y_test,y_pred,labels=labels)\\n    print(\"Doğruluk Skorları: \", scores)\\n    print(\"Ortalama Doğruluk: \", np.mean(scores))\\n    print(\"Test Doğruluğu: \", test_score)\\n    print(f\"{name} Accuracy: {acc:.4f}\")\\n    print(\"Classification_Report: \", classify_report)\\n    sns.heatmap(cm, annot=True, fmt=\"d\", cmap=\"Blues\", xticklabels=labels, yticklabels=labels)\\n    plt.xlabel(\"Tahmin Edilen Etiket\")\\n    plt.ylabel(\"Gerçek Etiket\")\\n    plt.title(\"Confusion Matrix\")\\n    plt.show()\\n\\n    print(\"-------------------------------------------------------------------------------------------\")\\n'"
      ]
     },
     "execution_count": 1,
     "metadata": {},
     "output_type": "execute_result"
    }
   ],
   "source": [
    "from flask import Flask, jsonify, render_template, request, redirect, url_for\n",
    "from influxdb_client import InfluxDBClient\n",
    "from elasticsearch import Elasticsearch\n",
    "from sklearn.model_selection import train_test_split, cross_val_score\n",
    "from sklearn.ensemble import RandomForestClassifier, GradientBoostingClassifier\n",
    "from sklearn.metrics import classification_report, confusion_matrix, accuracy_score\n",
    "from sklearn.preprocessing import LabelEncoder, StandardScaler\n",
    "from sklearn.tree import DecisionTreeClassifier\n",
    "from sklearn.neighbors import KNeighborsClassifier\n",
    "from sklearn.svm import SVC\n",
    "from sklearn.linear_model import LogisticRegression\n",
    "from xgboost import XGBClassifier\n",
    "import joblib\n",
    "import numpy as np\n",
    "import seaborn as sns\n",
    "import matplotlib.pyplot as plt\n",
    "import pandas as pd \n",
    "import os\n",
    "\n",
    "le = LabelEncoder()\n",
    "df = pd.read_csv(\"system-metrics-muhammed2.csv\", sep=',')\n",
    "print(df.head())\n",
    "\n",
    "selected_features = ['cpu_user', 'cpu_system', 'mem_used_percent', 'swap_used_percent', 'disk_used_percent', 'diskio_ms', 'drop_in_received', 'drop_out_outbound', 'load1', 'load5', 'load15' ]\n",
    "X = df[selected_features]\n",
    "y = le.fit_transform(df[\"system_label\"])\n",
    "\n",
    "scaler = StandardScaler()\n",
    "X_scaled = scaler.fit_transform(X)\n",
    "\n",
    "\n",
    "# Son bir test için veriyi ayırma (çapraz doğrulama yapıyorsanız bu adım opsiyonel)\n",
    "X_train, X_test, y_train, y_test = train_test_split(X_scaled, y, test_size=0.2, random_state=42)\n",
    "\n",
    "\n",
    "# Final modeli\n",
    "final_model = RandomForestClassifier(n_estimators=100, random_state=42)\n",
    "final_model.fit(X_train, y_train)\n",
    "\n",
    "# Test skoru\n",
    "print(\"Test Doğruluğu:\", final_model.score(X_test, y_test))\n",
    "\n",
    "y_pred = final_model.predict(X_test)\n",
    "print(classification_report(y_test, y_pred))\n",
    "\n",
    "cm = confusion_matrix(y_test, y_pred)\n",
    "labels = final_model.classes_\n",
    "cm = confusion_matrix(y_test,y_pred,labels=labels)\n",
    "        \n",
    "\n",
    "sns.heatmap(cm, annot=True, fmt=\"d\", cmap=\"Blues\", xticklabels=labels, yticklabels=labels)\n",
    "plt.xlabel(\"Tahmin Edilen Etiket\")\n",
    "plt.ylabel(\"Gerçek Etiket\")\n",
    "plt.title(\"Confusion Matrix\")\n",
    "plt.show()\n",
    "\n",
    "joblib.dump(final_model, \"random_forest_model.pk1\")\n",
    "joblib.dump(le, \"label_encoder.pk1\")\n",
    "'''\n",
    "models = {\n",
    "    \"Random Forest\": RandomForestClassifier(),\n",
    "    \"Decision Tree\": DecisionTreeClassifier(),\n",
    "    \"KNN\": KNeighborsClassifier(),\n",
    "    \"SVM\": SVC(),\n",
    "    \"Logistic Regression\": LogisticRegression(max_iter=1000),\n",
    "    \"XGBoost\": XGBClassifier()\n",
    "}\n",
    "\n",
    "for name, model in models.items():\n",
    "    model.fit(X_train, y_train)\n",
    "    y_pred = model.predict(X_test)\n",
    "    acc = accuracy_score(y_test, y_pred)\n",
    "    classify_report = classification_report(y_test, y_pred)\n",
    "    test_score = model.score(X_test, y_test)\n",
    "    scores = cross_val_score(model, X_scaled, y, cv=5, scoring='accuracy')\n",
    "    cm = confusion_matrix(y_test, y_pred)\n",
    "    labels = model.classes_\n",
    "    cm = confusion_matrix(y_test,y_pred,labels=labels)\n",
    "    print(\"Doğruluk Skorları: \", scores)\n",
    "    print(\"Ortalama Doğruluk: \", np.mean(scores))\n",
    "    print(\"Test Doğruluğu: \", test_score)\n",
    "    print(f\"{name} Accuracy: {acc:.4f}\")\n",
    "    print(\"Classification_Report: \", classify_report)\n",
    "    sns.heatmap(cm, annot=True, fmt=\"d\", cmap=\"Blues\", xticklabels=labels, yticklabels=labels)\n",
    "    plt.xlabel(\"Tahmin Edilen Etiket\")\n",
    "    plt.ylabel(\"Gerçek Etiket\")\n",
    "    plt.title(\"Confusion Matrix\")\n",
    "    plt.show()\n",
    "\n",
    "    print(\"-------------------------------------------------------------------------------------------\")\n",
    "'''    "
   ]
  },
  {
   "cell_type": "code",
   "execution_count": 5,
   "id": "dcc5d06e-d788-4509-85c4-f996acb233c0",
   "metadata": {},
   "outputs": [
    {
     "name": "stdout",
     "output_type": "stream",
     "text": [
      "Requirement already satisfied: joblib in ./systemenv/lib/python3.12/site-packages (1.5.0)\n",
      "Note: you may need to restart the kernel to use updated packages.\n"
     ]
    }
   ],
   "source": [
    "pip install joblib"
   ]
  },
  {
   "cell_type": "code",
   "execution_count": null,
   "id": "d76640a9-9f18-4502-9de6-93b4f52350c2",
   "metadata": {},
   "outputs": [],
   "source": []
  }
 ],
 "metadata": {
  "kernelspec": {
   "display_name": "Python 3 (ipykernel)",
   "language": "python",
   "name": "python3"
  },
  "language_info": {
   "codemirror_mode": {
    "name": "ipython",
    "version": 3
   },
   "file_extension": ".py",
   "mimetype": "text/x-python",
   "name": "python",
   "nbconvert_exporter": "python",
   "pygments_lexer": "ipython3",
   "version": "3.12.3"
  }
 },
 "nbformat": 4,
 "nbformat_minor": 5
}
